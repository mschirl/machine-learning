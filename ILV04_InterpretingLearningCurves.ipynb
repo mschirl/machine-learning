{
 "cells": [
  {
   "cell_type": "markdown",
   "metadata": {
    "slideshow": {
     "slide_type": "slide"
    }
   },
   "source": [
    "# ILV04 Interpreting Learning Curves\n",
    "A concise lecture that aims to help you learn how to evaluate the training progress of your machine learning models."
   ]
  },
  {
   "cell_type": "markdown",
   "metadata": {
    "slideshow": {
     "slide_type": "slide"
    }
   },
   "source": [
    "## ILV04.0 a) Learning Objectives\n",
    "\n",
    "In today's lesson we are going to answer following questions:\n",
    "\n",
    "- How do we evaluate the quality of the model we just trained?\n",
    "- What does bias & variance have to do with this?\n",
    "- How do we identify overfitting & underfitting?\n",
    "- What type of tools do we have at our disposal to achieve this?\n",
    "- How do we use the gained knowledge to train and evaluate our model the correct way?"
   ]
  },
  {
   "cell_type": "markdown",
   "metadata": {
    "slideshow": {
     "slide_type": "subslide"
    }
   },
   "source": [
    "## ILV04.0 b) Recap\n",
    "\n",
    "Before we train a new model, let's recap the simple perceptron we trained in LB03.\n",
    "\n",
    "#### Sample Data:\n",
    "First, let's have a look at the training data that was used.\n",
    "\n",
    "| $x_1$ | $x_2$ | $y$ |\n",
    "| :-: | :-: | :-: |\n",
    "| 0 | 0 | 0 |\n",
    "| 0 | 1 | 0 |\n",
    "| 1 | 0 | 1 |\n",
    "| 1 | 1 | 1 |"
   ]
  },
  {
   "cell_type": "markdown",
   "metadata": {
    "slideshow": {
     "slide_type": "subslide"
    }
   },
   "source": [
    "#### Simple Perceptron:\n",
    "Next up, we are going to take a look at the model's archicture.<br>\n",
    "Remember, this is the simple perceptron we implemented ourselves.\n",
    "<center><img src=\"resources/ILV04_perceptron_architecture.png\" style=\"width:75%\"/></center>"
   ]
  },
  {
   "cell_type": "markdown",
   "metadata": {
    "slideshow": {
     "slide_type": "subslide"
    }
   },
   "source": [
    "#### Learning Curve (epochs=1000, lr=1):\n",
    "\n",
    "<div style=\"width: 45%; float: left;\">\n",
    "    <img src=\"resources/ILV04_perceptron_training_loss.png\"/>\n",
    "</div>\n",
    "\n",
    "<div style=\"width: 55%; float: left; margin-top:50px\">\n",
    "    <ul>\n",
    "        <li>What is this curve telling us?</li>\n",
    "        <li>Based on this curve, is it possible to determine if the model accurately learned the general model of the data?</li>\n",
    "    </ul>\n",
    "</div>"
   ]
  },
  {
   "cell_type": "code",
   "execution_count": 1,
   "metadata": {
    "slideshow": {
     "slide_type": "skip"
    }
   },
   "outputs": [
    {
     "name": "stderr",
     "output_type": "stream",
     "text": [
      "Using TensorFlow backend.\n"
     ]
    }
   ],
   "source": [
    "import numpy as np\n",
    "import pandas as pd\n",
    "import matplotlib.pyplot as plt\n",
    "\n",
    "%matplotlib inline \n",
    "from sklearn.metrics import confusion_matrix\n",
    "from sklearn.model_selection import train_test_split, learning_curve, StratifiedKFold\n",
    "from keras.models import Sequential\n",
    "from keras.layers import Dense\n",
    "from keras import callbacks\n",
    "import os"
   ]
  },
  {
   "cell_type": "code",
   "execution_count": 2,
   "metadata": {
    "slideshow": {
     "slide_type": "skip"
    }
   },
   "outputs": [],
   "source": [
    "# Function that returns a sequential Keras model, similar to the code you used in LB03.3 a)\n",
    "def create_model(input_dim = None, output_dim = None, hidden_nodes = None):\n",
    "    model = Sequential()\n",
    "    model.add(Dense(hidden_nodes, input_dim=input_dim, activation='relu'))\n",
    "    model.add(Dense(output_dim, activation='sigmoid'))\n",
    "    \n",
    "    loss_function = \"binary_crossentropy\"\n",
    "    optimizer = \"adam\"\n",
    "\n",
    "    model.compile(loss=loss_function, optimizer=optimizer, metrics=[\"accuracy\"])\n",
    "    return model"
   ]
  },
  {
   "cell_type": "code",
   "execution_count": 3,
   "metadata": {
    "slideshow": {
     "slide_type": "skip"
    }
   },
   "outputs": [],
   "source": [
    "# function adapted from https://scikit-learn.org/stable/modules/generated/sklearn.model_selection.learning_curve.html\n",
    "# we adapted the code to introduce our own scoring (using binary-crossentropy loss) specifically for keras models\n",
    "\n",
    "def custom_learning_curve(model, X, y, n_folds = 10, train_sizes = np.linspace(0.1, 1, 10)):\n",
    "    \"\"\"\n",
    "    Learning curve.\n",
    "    Determines cross-validated training and test scores for different training\n",
    "    set sizes.\n",
    "    \n",
    "    A cross-validation generator splits the whole dataset k times in training\n",
    "    and test data. Subsets of the training set with varying sizes will be used\n",
    "    to train the estimator and a score for each training subset size and the\n",
    "    test set will be computed. Afterwards, the scores will be averaged over\n",
    "    all k runs for each training subset size.\n",
    "    \n",
    "    Returns (adapted by reufko & mschirl):\n",
    "    -------\n",
    "    train_counts : array of shape (train_sizes,) holding the average number of samples used to train the model\n",
    "\n",
    "    train_losses : array of shape (n_folds, train_sizes) holding the train losses computed for each fold and train_size\n",
    "\n",
    "    valid_losses : array of shape (n_folds, train_sizes) holding the validation losses computed for each fold and train_size \n",
    "    \"\"\"\n",
    "    \n",
    "    model.save_weights('initial_weights.h5')\n",
    "    kfold = StratifiedKFold(n_splits=n_folds, shuffle=True, random_state=None)\n",
    "    train_losses = []\n",
    "    valid_losses = []\n",
    "    train_counts = []\n",
    "    \n",
    "    for train, valid in kfold.split(X, y):\n",
    "        train_loss = []\n",
    "        valid_loss = []\n",
    "        train_count = []\n",
    "        for percentage in train_sizes:\n",
    "            if percentage == 1.0:\n",
    "                X_train, y_train = (X.iloc[train, :], y[train])\n",
    "            else:\n",
    "                X_train, X_test, y_train, y_test = train_test_split(X.iloc[train, :], y[train], test_size=1-percentage, random_state = None)\n",
    "            history = model.fit(X_train, y_train, epochs=200, verbose=0)\n",
    "            train_loss.append(model.evaluate(X_train, y_train, verbose=0)[0])\n",
    "            valid_loss.append(model.evaluate(X.iloc[valid, :], y[valid], verbose=0)[0])\n",
    "            model.load_weights('initial_weights.h5')\n",
    "            train_count.append(X_train.shape[0])\n",
    "        train_losses.append(train_loss)\n",
    "        valid_losses.append(valid_loss)\n",
    "        train_counts.append(train_count)\n",
    "    os.remove(\"initial_weights.h5\")\n",
    "    return np.array(train_counts).T.mean(axis=1), np.array(train_losses).T, np.array(valid_losses).T"
   ]
  },
  {
   "cell_type": "code",
   "execution_count": 4,
   "metadata": {
    "slideshow": {
     "slide_type": "skip"
    }
   },
   "outputs": [],
   "source": [
    "# This function returns the index of an epoch where early stopping (based patience and epsilon) should be performed.\n",
    "def get_early_stopping_index(history, patience=5, epsi = 0.0001):\n",
    "  counter = 0\n",
    "  max_loss = np.array(history[\"val_loss\"]).max()\n",
    "  i=0\n",
    "\n",
    "  for index, row in enumerate(history[\"val_loss\"]):\n",
    "    if(counter==patience):\n",
    "      break\n",
    "\n",
    "    if(row<max_loss-epsi):\n",
    "      i=index\n",
    "      max_loss=row\n",
    "      counter = 0\n",
    "    else:\n",
    "      counter+=1\n",
    "      \n",
    "  return i"
   ]
  },
  {
   "cell_type": "code",
   "execution_count": 5,
   "metadata": {
    "slideshow": {
     "slide_type": "skip"
    }
   },
   "outputs": [],
   "source": [
    "def plot_learning_curve(estimator, X, y, ylim=None, cv=None,\n",
    "                        n_jobs=1, train_sizes=np.linspace(.1, 1.0, 5), scoring=None, title=\"\"):\n",
    "    # Function taken from\n",
    "    # https://scikit-learn.org/stable/auto_examples/model_selection/plot_learning_curve.html#sphx-glr-auto-examples-model-selection-plot-learning-curve-py\n",
    "    \"\"\"\n",
    "    Generate a simple plot of the test and training learning curve.\n",
    "\n",
    "    Parameters\n",
    "    ----------\n",
    "    estimator : object type that implements the \"fit\" and \"predict\" methods\n",
    "        An object of that type which is cloned for each validation.\n",
    "\n",
    "    title : string\n",
    "        Title for the chart.\n",
    "\n",
    "    X : array-like, shape (n_samples, n_features)\n",
    "        Training vector, where n_samples is the number of samples and\n",
    "        n_features is the number of features.\n",
    "\n",
    "    y : array-like, shape (n_samples) or (n_samples, n_features), optional\n",
    "        Target relative to X for classification or regression;\n",
    "        None for unsupervised learning.\n",
    "\n",
    "    ylim : tuple, shape (ymin, ymax), optional\n",
    "        Defines minimum and maximum yvalues plotted.\n",
    "\n",
    "    cv : int, cross-validation generator or an iterable, optional\n",
    "        Determines the cross-validation splitting strategy.\n",
    "        Possible inputs for cv are:\n",
    "          - None, to use the default 3-fold cross-validation,\n",
    "          - integer, to specify the number of folds.\n",
    "          - An object to be used as a cross-validation generator.\n",
    "          - An iterable yielding train/test splits.\n",
    "\n",
    "        For integer/None inputs, if ``y`` is binary or multiclass,\n",
    "        :class:`StratifiedKFold` used. If the estimator is not a classifier\n",
    "        or if ``y`` is neither binary nor multiclass, :class:`KFold` is used.\n",
    "\n",
    "        Refer :ref:`User Guide <cross_validation>` for the various\n",
    "        cross-validators that can be used here.\n",
    "\n",
    "    n_jobs : integer, optional\n",
    "        Number of jobs to run in parallel (default 1).\n",
    "    \"\"\"\n",
    "    plt.figure(figsize=(12, 5))\n",
    "    plt.title(title)\n",
    "    if ylim is not None:\n",
    "        plt.ylim(*ylim)\n",
    "    plt.xlabel(\"Training examples\")\n",
    "    plt.ylabel(\"Loss\")\n",
    "    train_sizes, train_scores, test_scores = custom_learning_curve(estimator, X, y, train_sizes=train_sizes)\n",
    "    train_scores_mean = np.mean(train_scores, axis=1)\n",
    "    train_scores_std = np.std(train_scores, axis=1)\n",
    "    test_scores_mean = np.mean(test_scores, axis=1)\n",
    "    test_scores_std = np.std(test_scores, axis=1)\n",
    "    \n",
    "    plt.grid()\n",
    "\n",
    "    plt.fill_between(train_sizes, train_scores_mean - train_scores_std,\n",
    "                     train_scores_mean + train_scores_std, alpha=0.2,\n",
    "                     color=\"r\")\n",
    "    plt.fill_between(train_sizes, test_scores_mean - test_scores_std,\n",
    "                     test_scores_mean + test_scores_std, alpha=0.2, color=\"g\")\n",
    "    plt.plot(train_sizes, train_scores_mean, 'o-', color=\"r\",\n",
    "             label=\"Training loss\")\n",
    "    plt.plot(train_sizes, test_scores_mean, 'o-', color=\"g\",\n",
    "             label=\"Cross-validation loss\")\n",
    "\n",
    "    plt.legend(loc=\"best\")\n",
    "    return plt"
   ]
  },
  {
   "cell_type": "code",
   "execution_count": 6,
   "metadata": {
    "slideshow": {
     "slide_type": "skip"
    }
   },
   "outputs": [],
   "source": [
    "# Simple function that plots loss over epochs and accuracy over epochs (for both train and validation set).\n",
    "# Also adds a marker for the epoch, where early stopping should be performed if the appropriate index is passed\n",
    "def plot_learning_curve_over_epochs(history = None, early_stopping = None):\n",
    "    fig = plt.figure(figsize=(12, 10), dpi=80)\n",
    "    plt.subplot(2, 1, 1)\n",
    "    plt.plot(history.history['loss'])\n",
    "    plt.plot(history.history['val_loss'])\n",
    "    plt.title('Loss Curves')\n",
    "    plt.ylabel('Loss')\n",
    "    plt.xlabel('Epoch')\n",
    "    plt.legend(['Train Loss', 'Validation Loss'], loc='best')\n",
    "    if early_stopping:\n",
    "        plt.axvline(x=early_stopping+1, color='r', linestyle='-', label=\"Early Stopping: \"+str(early_stopping+1))\n",
    "    \n",
    "    \n",
    "    plt.subplot(2, 1, 2)\n",
    "    plt.plot(history.history['accuracy'])\n",
    "    plt.plot(history.history['val_accuracy'])\n",
    "    plt.title('Accuracy Curves')\n",
    "    plt.ylabel('Accuracy')\n",
    "    plt.xlabel('Epoch')\n",
    "    plt.legend(['Train Accuracy', 'Validation Accuracy'], loc='best')\n",
    "    if early_stopping:\n",
    "        plt.axvline(x=early_stopping+1, color='r', linestyle='-', label=\"Early Stopping: \"+str(early_stopping+1))\n",
    "    \n",
    "    plt.show()"
   ]
  },
  {
   "cell_type": "code",
   "execution_count": 7,
   "metadata": {
    "slideshow": {
     "slide_type": "skip"
    }
   },
   "outputs": [],
   "source": [
    "# Adapted from LB02.5 b)\n",
    "def select_features_above_threshold(threshold = 0.9, corr_matrix = None):\n",
    "    # Make values in the correlation matrix absolute\n",
    "    corr_matrix = corr_matrix.abs()\n",
    "\n",
    "    # Select upper triangle of correlation matrix\n",
    "    triangle_mask = np.triu(np.ones(corr_matrix.shape), k=1).astype(np.bool)\n",
    "    upper_triangle = corr_matrix.where(triangle_mask)\n",
    "\n",
    "    # Find features with correlation greater than threshold\n",
    "    to_drop = [column for column in upper_triangle.columns if any(upper_triangle[column] > threshold)]\n",
    "\n",
    "    return to_drop"
   ]
  },
  {
   "cell_type": "code",
   "execution_count": 8,
   "metadata": {
    "slideshow": {
     "slide_type": "skip"
    }
   },
   "outputs": [],
   "source": [
    "import itertools\n",
    "def plot_confusion_matrix(cm, classes,\n",
    "                          normalize=False,\n",
    "                          title='Confusion matrix',\n",
    "                          cmap=plt.cm.Blues):\n",
    "    \"\"\"\n",
    "    This function prints and plots the confusion matrix.\n",
    "    Normalization can be applied by setting `normalize=True`.\n",
    "    \"\"\"\n",
    "    fig = plt.figure(figsize=(10, 10))\n",
    "\n",
    "    if normalize:\n",
    "        cm = cm.astype('float') / cm.sum(axis=1)[:, np.newaxis]\n",
    "        cm = np.around(cm, decimals=3, out=None)  \n",
    "    \n",
    "    \n",
    "    thresh = cm.max() / 2.\n",
    "    \n",
    "    plt.imshow(cm, interpolation='nearest', cmap=cmap)\n",
    "    \n",
    "    plt.title(title)\n",
    "    plt.colorbar()\n",
    "    tick_marks = np.arange(len(classes))\n",
    "    plt.xticks(tick_marks, classes, rotation=45)\n",
    "    plt.yticks(tick_marks, classes)\n",
    "\n",
    "    for i, j in itertools.product(range(cm.shape[0]), range(cm.shape[1])):\n",
    "        plt.text(j, i, cm[i, j],\n",
    "                 horizontalalignment=\"center\",\n",
    "                 color=\"white\" if cm[i, j] > thresh else \"black\")\n",
    "\n",
    "    fig.tight_layout()\n",
    "    plt.ylabel('True label')\n",
    "    plt.xlabel('Predicted label')"
   ]
  },
  {
   "cell_type": "markdown",
   "metadata": {
    "slideshow": {
     "slide_type": "slide"
    }
   },
   "source": [
    "## ILV04.1 Training, Validating and Testing\n",
    "\n",
    "In LB03, we considered the testing dataset to be equal to the training dataset.\n",
    "\n",
    "| $x_1$ | $x_2$ | $y$ |\n",
    "| :-: | :-: | :-: |\n",
    "| 0 | 0 | 0 |\n",
    "| 0 | 1 | 0 |\n",
    "| 1 | 0 | 1 |\n",
    "| 1 | 1 | 1 |\n",
    "\n",
    "However, to fully evaluate machine learning models, you need three separate datasets.<br>\n",
    "We are going to need a more complex dataset if we want to do this split properly."
   ]
  },
  {
   "cell_type": "code",
   "execution_count": 9,
   "metadata": {
    "slideshow": {
     "slide_type": "subslide"
    }
   },
   "outputs": [],
   "source": [
    "df = pd.read_csv('datasets/breast_cancer.csv', sep=';')"
   ]
  },
  {
   "cell_type": "code",
   "execution_count": 10,
   "metadata": {
    "slideshow": {
     "slide_type": "subslide"
    }
   },
   "outputs": [
    {
     "data": {
      "text/html": [
       "<div>\n",
       "<style scoped>\n",
       "    .dataframe tbody tr th:only-of-type {\n",
       "        vertical-align: middle;\n",
       "    }\n",
       "\n",
       "    .dataframe tbody tr th {\n",
       "        vertical-align: top;\n",
       "    }\n",
       "\n",
       "    .dataframe thead th {\n",
       "        text-align: right;\n",
       "    }\n",
       "</style>\n",
       "<table border=\"1\" class=\"dataframe\">\n",
       "  <thead>\n",
       "    <tr style=\"text-align: right;\">\n",
       "      <th></th>\n",
       "      <th>mean radius</th>\n",
       "      <th>mean texture</th>\n",
       "      <th>mean perimeter</th>\n",
       "      <th>mean area</th>\n",
       "      <th>mean smoothness</th>\n",
       "      <th>mean compactness</th>\n",
       "      <th>mean concavity</th>\n",
       "      <th>mean concave points</th>\n",
       "      <th>mean symmetry</th>\n",
       "      <th>mean fractal dimension</th>\n",
       "      <th>...</th>\n",
       "      <th>worst radius</th>\n",
       "      <th>worst texture</th>\n",
       "      <th>worst perimeter</th>\n",
       "      <th>worst area</th>\n",
       "      <th>worst smoothness</th>\n",
       "      <th>worst compactness</th>\n",
       "      <th>worst concavity</th>\n",
       "      <th>worst concave points</th>\n",
       "      <th>worst symmetry</th>\n",
       "      <th>worst fractal dimension</th>\n",
       "    </tr>\n",
       "  </thead>\n",
       "  <tbody>\n",
       "    <tr>\n",
       "      <th>count</th>\n",
       "      <td>569.000000</td>\n",
       "      <td>569.000000</td>\n",
       "      <td>569.000000</td>\n",
       "      <td>569.000000</td>\n",
       "      <td>569.000000</td>\n",
       "      <td>569.000000</td>\n",
       "      <td>569.000000</td>\n",
       "      <td>569.000000</td>\n",
       "      <td>569.000000</td>\n",
       "      <td>569.000000</td>\n",
       "      <td>...</td>\n",
       "      <td>569.000000</td>\n",
       "      <td>569.000000</td>\n",
       "      <td>569.000000</td>\n",
       "      <td>569.000000</td>\n",
       "      <td>569.000000</td>\n",
       "      <td>569.000000</td>\n",
       "      <td>569.000000</td>\n",
       "      <td>569.000000</td>\n",
       "      <td>569.000000</td>\n",
       "      <td>569.000000</td>\n",
       "    </tr>\n",
       "    <tr>\n",
       "      <th>mean</th>\n",
       "      <td>14.127292</td>\n",
       "      <td>19.289649</td>\n",
       "      <td>91.969033</td>\n",
       "      <td>654.889104</td>\n",
       "      <td>0.096360</td>\n",
       "      <td>0.104341</td>\n",
       "      <td>0.088799</td>\n",
       "      <td>0.048919</td>\n",
       "      <td>0.181162</td>\n",
       "      <td>0.062798</td>\n",
       "      <td>...</td>\n",
       "      <td>16.269190</td>\n",
       "      <td>25.677223</td>\n",
       "      <td>107.261213</td>\n",
       "      <td>880.583128</td>\n",
       "      <td>0.132369</td>\n",
       "      <td>0.254265</td>\n",
       "      <td>0.272188</td>\n",
       "      <td>0.114606</td>\n",
       "      <td>0.290076</td>\n",
       "      <td>0.083946</td>\n",
       "    </tr>\n",
       "    <tr>\n",
       "      <th>std</th>\n",
       "      <td>3.524049</td>\n",
       "      <td>4.301036</td>\n",
       "      <td>24.298981</td>\n",
       "      <td>351.914129</td>\n",
       "      <td>0.014064</td>\n",
       "      <td>0.052813</td>\n",
       "      <td>0.079720</td>\n",
       "      <td>0.038803</td>\n",
       "      <td>0.027414</td>\n",
       "      <td>0.007060</td>\n",
       "      <td>...</td>\n",
       "      <td>4.833242</td>\n",
       "      <td>6.146258</td>\n",
       "      <td>33.602542</td>\n",
       "      <td>569.356993</td>\n",
       "      <td>0.022832</td>\n",
       "      <td>0.157336</td>\n",
       "      <td>0.208624</td>\n",
       "      <td>0.065732</td>\n",
       "      <td>0.061867</td>\n",
       "      <td>0.018061</td>\n",
       "    </tr>\n",
       "    <tr>\n",
       "      <th>min</th>\n",
       "      <td>6.981000</td>\n",
       "      <td>9.710000</td>\n",
       "      <td>43.790000</td>\n",
       "      <td>143.500000</td>\n",
       "      <td>0.052630</td>\n",
       "      <td>0.019380</td>\n",
       "      <td>0.000000</td>\n",
       "      <td>0.000000</td>\n",
       "      <td>0.106000</td>\n",
       "      <td>0.049960</td>\n",
       "      <td>...</td>\n",
       "      <td>7.930000</td>\n",
       "      <td>12.020000</td>\n",
       "      <td>50.410000</td>\n",
       "      <td>185.200000</td>\n",
       "      <td>0.071170</td>\n",
       "      <td>0.027290</td>\n",
       "      <td>0.000000</td>\n",
       "      <td>0.000000</td>\n",
       "      <td>0.156500</td>\n",
       "      <td>0.055040</td>\n",
       "    </tr>\n",
       "    <tr>\n",
       "      <th>25%</th>\n",
       "      <td>11.700000</td>\n",
       "      <td>16.170000</td>\n",
       "      <td>75.170000</td>\n",
       "      <td>420.300000</td>\n",
       "      <td>0.086370</td>\n",
       "      <td>0.064920</td>\n",
       "      <td>0.029560</td>\n",
       "      <td>0.020310</td>\n",
       "      <td>0.161900</td>\n",
       "      <td>0.057700</td>\n",
       "      <td>...</td>\n",
       "      <td>13.010000</td>\n",
       "      <td>21.080000</td>\n",
       "      <td>84.110000</td>\n",
       "      <td>515.300000</td>\n",
       "      <td>0.116600</td>\n",
       "      <td>0.147200</td>\n",
       "      <td>0.114500</td>\n",
       "      <td>0.064930</td>\n",
       "      <td>0.250400</td>\n",
       "      <td>0.071460</td>\n",
       "    </tr>\n",
       "    <tr>\n",
       "      <th>50%</th>\n",
       "      <td>13.370000</td>\n",
       "      <td>18.840000</td>\n",
       "      <td>86.240000</td>\n",
       "      <td>551.100000</td>\n",
       "      <td>0.095870</td>\n",
       "      <td>0.092630</td>\n",
       "      <td>0.061540</td>\n",
       "      <td>0.033500</td>\n",
       "      <td>0.179200</td>\n",
       "      <td>0.061540</td>\n",
       "      <td>...</td>\n",
       "      <td>14.970000</td>\n",
       "      <td>25.410000</td>\n",
       "      <td>97.660000</td>\n",
       "      <td>686.500000</td>\n",
       "      <td>0.131300</td>\n",
       "      <td>0.211900</td>\n",
       "      <td>0.226700</td>\n",
       "      <td>0.099930</td>\n",
       "      <td>0.282200</td>\n",
       "      <td>0.080040</td>\n",
       "    </tr>\n",
       "    <tr>\n",
       "      <th>75%</th>\n",
       "      <td>15.780000</td>\n",
       "      <td>21.800000</td>\n",
       "      <td>104.100000</td>\n",
       "      <td>782.700000</td>\n",
       "      <td>0.105300</td>\n",
       "      <td>0.130400</td>\n",
       "      <td>0.130700</td>\n",
       "      <td>0.074000</td>\n",
       "      <td>0.195700</td>\n",
       "      <td>0.066120</td>\n",
       "      <td>...</td>\n",
       "      <td>18.790000</td>\n",
       "      <td>29.720000</td>\n",
       "      <td>125.400000</td>\n",
       "      <td>1084.000000</td>\n",
       "      <td>0.146000</td>\n",
       "      <td>0.339100</td>\n",
       "      <td>0.382900</td>\n",
       "      <td>0.161400</td>\n",
       "      <td>0.317900</td>\n",
       "      <td>0.092080</td>\n",
       "    </tr>\n",
       "    <tr>\n",
       "      <th>max</th>\n",
       "      <td>28.110000</td>\n",
       "      <td>39.280000</td>\n",
       "      <td>188.500000</td>\n",
       "      <td>2501.000000</td>\n",
       "      <td>0.163400</td>\n",
       "      <td>0.345400</td>\n",
       "      <td>0.426800</td>\n",
       "      <td>0.201200</td>\n",
       "      <td>0.304000</td>\n",
       "      <td>0.097440</td>\n",
       "      <td>...</td>\n",
       "      <td>36.040000</td>\n",
       "      <td>49.540000</td>\n",
       "      <td>251.200000</td>\n",
       "      <td>4254.000000</td>\n",
       "      <td>0.222600</td>\n",
       "      <td>1.058000</td>\n",
       "      <td>1.252000</td>\n",
       "      <td>0.291000</td>\n",
       "      <td>0.663800</td>\n",
       "      <td>0.207500</td>\n",
       "    </tr>\n",
       "  </tbody>\n",
       "</table>\n",
       "<p>8 rows × 30 columns</p>\n",
       "</div>"
      ],
      "text/plain": [
       "       mean radius  mean texture  mean perimeter    mean area  \\\n",
       "count   569.000000    569.000000      569.000000   569.000000   \n",
       "mean     14.127292     19.289649       91.969033   654.889104   \n",
       "std       3.524049      4.301036       24.298981   351.914129   \n",
       "min       6.981000      9.710000       43.790000   143.500000   \n",
       "25%      11.700000     16.170000       75.170000   420.300000   \n",
       "50%      13.370000     18.840000       86.240000   551.100000   \n",
       "75%      15.780000     21.800000      104.100000   782.700000   \n",
       "max      28.110000     39.280000      188.500000  2501.000000   \n",
       "\n",
       "       mean smoothness  mean compactness  mean concavity  mean concave points  \\\n",
       "count       569.000000        569.000000      569.000000           569.000000   \n",
       "mean          0.096360          0.104341        0.088799             0.048919   \n",
       "std           0.014064          0.052813        0.079720             0.038803   \n",
       "min           0.052630          0.019380        0.000000             0.000000   \n",
       "25%           0.086370          0.064920        0.029560             0.020310   \n",
       "50%           0.095870          0.092630        0.061540             0.033500   \n",
       "75%           0.105300          0.130400        0.130700             0.074000   \n",
       "max           0.163400          0.345400        0.426800             0.201200   \n",
       "\n",
       "       mean symmetry  mean fractal dimension  ...  worst radius  \\\n",
       "count     569.000000              569.000000  ...    569.000000   \n",
       "mean        0.181162                0.062798  ...     16.269190   \n",
       "std         0.027414                0.007060  ...      4.833242   \n",
       "min         0.106000                0.049960  ...      7.930000   \n",
       "25%         0.161900                0.057700  ...     13.010000   \n",
       "50%         0.179200                0.061540  ...     14.970000   \n",
       "75%         0.195700                0.066120  ...     18.790000   \n",
       "max         0.304000                0.097440  ...     36.040000   \n",
       "\n",
       "       worst texture  worst perimeter   worst area  worst smoothness  \\\n",
       "count     569.000000       569.000000   569.000000        569.000000   \n",
       "mean       25.677223       107.261213   880.583128          0.132369   \n",
       "std         6.146258        33.602542   569.356993          0.022832   \n",
       "min        12.020000        50.410000   185.200000          0.071170   \n",
       "25%        21.080000        84.110000   515.300000          0.116600   \n",
       "50%        25.410000        97.660000   686.500000          0.131300   \n",
       "75%        29.720000       125.400000  1084.000000          0.146000   \n",
       "max        49.540000       251.200000  4254.000000          0.222600   \n",
       "\n",
       "       worst compactness  worst concavity  worst concave points  \\\n",
       "count         569.000000       569.000000            569.000000   \n",
       "mean            0.254265         0.272188              0.114606   \n",
       "std             0.157336         0.208624              0.065732   \n",
       "min             0.027290         0.000000              0.000000   \n",
       "25%             0.147200         0.114500              0.064930   \n",
       "50%             0.211900         0.226700              0.099930   \n",
       "75%             0.339100         0.382900              0.161400   \n",
       "max             1.058000         1.252000              0.291000   \n",
       "\n",
       "       worst symmetry  worst fractal dimension  \n",
       "count      569.000000               569.000000  \n",
       "mean         0.290076                 0.083946  \n",
       "std          0.061867                 0.018061  \n",
       "min          0.156500                 0.055040  \n",
       "25%          0.250400                 0.071460  \n",
       "50%          0.282200                 0.080040  \n",
       "75%          0.317900                 0.092080  \n",
       "max          0.663800                 0.207500  \n",
       "\n",
       "[8 rows x 30 columns]"
      ]
     },
     "execution_count": 10,
     "metadata": {},
     "output_type": "execute_result"
    }
   ],
   "source": [
    "df.describe()"
   ]
  },
  {
   "cell_type": "code",
   "execution_count": 11,
   "metadata": {
    "scrolled": true,
    "slideshow": {
     "slide_type": "subslide"
    }
   },
   "outputs": [
    {
     "name": "stdout",
     "output_type": "stream",
     "text": [
      "<class 'pandas.core.frame.DataFrame'>\n",
      "RangeIndex: 569 entries, 0 to 568\n",
      "Data columns (total 31 columns):\n",
      " #   Column                   Non-Null Count  Dtype  \n",
      "---  ------                   --------------  -----  \n",
      " 0   mean radius              569 non-null    float64\n",
      " 1   mean texture             569 non-null    float64\n",
      " 2   mean perimeter           569 non-null    float64\n",
      " 3   mean area                569 non-null    float64\n",
      " 4   mean smoothness          569 non-null    float64\n",
      " 5   mean compactness         569 non-null    float64\n",
      " 6   mean concavity           569 non-null    float64\n",
      " 7   mean concave points      569 non-null    float64\n",
      " 8   mean symmetry            569 non-null    float64\n",
      " 9   mean fractal dimension   569 non-null    float64\n",
      " 10  radius error             569 non-null    float64\n",
      " 11  texture error            569 non-null    float64\n",
      " 12  perimeter error          569 non-null    float64\n",
      " 13  area error               569 non-null    float64\n",
      " 14  smoothness error         569 non-null    float64\n",
      " 15  compactness error        569 non-null    float64\n",
      " 16  concavity error          569 non-null    float64\n",
      " 17  concave points error     569 non-null    float64\n",
      " 18  symmetry error           569 non-null    float64\n",
      " 19  fractal dimension error  569 non-null    float64\n",
      " 20  worst radius             569 non-null    float64\n",
      " 21  worst texture            569 non-null    float64\n",
      " 22  worst perimeter          569 non-null    float64\n",
      " 23  worst area               569 non-null    float64\n",
      " 24  worst smoothness         569 non-null    float64\n",
      " 25  worst compactness        569 non-null    float64\n",
      " 26  worst concavity          569 non-null    float64\n",
      " 27  worst concave points     569 non-null    float64\n",
      " 28  worst symmetry           569 non-null    float64\n",
      " 29  worst fractal dimension  569 non-null    float64\n",
      " 30  diagnosis                569 non-null    object \n",
      "dtypes: float64(30), object(1)\n",
      "memory usage: 137.9+ KB\n"
     ]
    }
   ],
   "source": [
    "df.info()"
   ]
  },
  {
   "cell_type": "markdown",
   "metadata": {
    "slideshow": {
     "slide_type": "subslide"
    }
   },
   "source": [
    "### ILV04.1 a) Set aside a Held-out Test Set\n",
    "\n",
    "Note: Direct quotations in this section are taken from [\"Deep Learning\", Goodfellow et al., 2016; Section 5.3](https://www.deeplearningbook.org/contents/ml.html).\n",
    "\n",
    "\"We discussed how a held-out test set, composed of examples coming from the same distribution as the training set, can be used to estimate the generalization error of a learner, after the learning process has completed.\" \n",
    "\n",
    "\"It is important that the test examples **are not used in any way to make choices about the model**, including its hyperparameters.\""
   ]
  },
  {
   "cell_type": "markdown",
   "metadata": {
    "slideshow": {
     "slide_type": "subslide"
    }
   },
   "source": [
    "### Label Encoding"
   ]
  },
  {
   "cell_type": "code",
   "execution_count": 12,
   "metadata": {
    "slideshow": {
     "slide_type": "fragment"
    }
   },
   "outputs": [],
   "source": [
    "y = df['diagnosis']\n",
    "y = [1 if label == 'malignant' else 0 for label in y]\n",
    "y = np.array(y)\n",
    "X = df.drop(columns=['diagnosis'])"
   ]
  },
  {
   "cell_type": "markdown",
   "metadata": {
    "slideshow": {
     "slide_type": "subslide"
    }
   },
   "source": [
    "### Stratified Train/Test Split"
   ]
  },
  {
   "cell_type": "code",
   "execution_count": 13,
   "metadata": {
    "slideshow": {
     "slide_type": "fragment"
    }
   },
   "outputs": [],
   "source": [
    "X_train, X_test, y_train, y_test = train_test_split(X, y,\n",
    "                                                    test_size=0.33,\n",
    "                                                    random_state=42,\n",
    "                                                    stratify = y)"
   ]
  },
  {
   "cell_type": "markdown",
   "metadata": {
    "slideshow": {
     "slide_type": "subslide"
    }
   },
   "source": [
    "### Train and Test Data After Split"
   ]
  },
  {
   "cell_type": "code",
   "execution_count": 14,
   "metadata": {
    "scrolled": true,
    "slideshow": {
     "slide_type": "fragment"
    }
   },
   "outputs": [
    {
     "data": {
      "text/html": [
       "<div>\n",
       "<style scoped>\n",
       "    .dataframe tbody tr th:only-of-type {\n",
       "        vertical-align: middle;\n",
       "    }\n",
       "\n",
       "    .dataframe tbody tr th {\n",
       "        vertical-align: top;\n",
       "    }\n",
       "\n",
       "    .dataframe thead th {\n",
       "        text-align: right;\n",
       "    }\n",
       "</style>\n",
       "<table border=\"1\" class=\"dataframe\">\n",
       "  <thead>\n",
       "    <tr style=\"text-align: right;\">\n",
       "      <th></th>\n",
       "      <th>mean radius</th>\n",
       "      <th>mean texture</th>\n",
       "      <th>mean area</th>\n",
       "      <th>mean smoothness</th>\n",
       "    </tr>\n",
       "  </thead>\n",
       "  <tbody>\n",
       "    <tr>\n",
       "      <th>90</th>\n",
       "      <td>14.62</td>\n",
       "      <td>24.02</td>\n",
       "      <td>662.7</td>\n",
       "      <td>0.08974</td>\n",
       "    </tr>\n",
       "    <tr>\n",
       "      <th>131</th>\n",
       "      <td>15.46</td>\n",
       "      <td>19.48</td>\n",
       "      <td>748.9</td>\n",
       "      <td>0.10920</td>\n",
       "    </tr>\n",
       "    <tr>\n",
       "      <th>183</th>\n",
       "      <td>11.41</td>\n",
       "      <td>14.92</td>\n",
       "      <td>402.0</td>\n",
       "      <td>0.09059</td>\n",
       "    </tr>\n",
       "    <tr>\n",
       "      <th>517</th>\n",
       "      <td>19.89</td>\n",
       "      <td>20.26</td>\n",
       "      <td>1214.0</td>\n",
       "      <td>0.10370</td>\n",
       "    </tr>\n",
       "    <tr>\n",
       "      <th>552</th>\n",
       "      <td>12.77</td>\n",
       "      <td>29.43</td>\n",
       "      <td>507.9</td>\n",
       "      <td>0.08276</td>\n",
       "    </tr>\n",
       "  </tbody>\n",
       "</table>\n",
       "</div>"
      ],
      "text/plain": [
       "     mean radius  mean texture  mean area  mean smoothness\n",
       "90         14.62         24.02      662.7          0.08974\n",
       "131        15.46         19.48      748.9          0.10920\n",
       "183        11.41         14.92      402.0          0.09059\n",
       "517        19.89         20.26     1214.0          0.10370\n",
       "552        12.77         29.43      507.9          0.08276"
      ]
     },
     "execution_count": 14,
     "metadata": {},
     "output_type": "execute_result"
    }
   ],
   "source": [
    "cols_to_display = [\n",
    "    \"mean radius\", \n",
    "    \"mean texture\",\n",
    "    \"mean area\",\n",
    "    \"mean smoothness\"\n",
    "]\n",
    "random_indices = np.random.randint(X_train.shape[0], size=5)\n",
    "indices = X_train.index[random_indices]\n",
    "X_train.loc[indices, cols_to_display]"
   ]
  },
  {
   "cell_type": "code",
   "execution_count": 15,
   "metadata": {
    "slideshow": {
     "slide_type": "fragment"
    }
   },
   "outputs": [
    {
     "data": {
      "text/plain": [
       "42     0\n",
       "279    1\n",
       "221    1\n",
       "515    1\n",
       "323    0\n",
       "dtype: int64"
      ]
     },
     "execution_count": 15,
     "metadata": {},
     "output_type": "execute_result"
    }
   ],
   "source": [
    "pd.Series(y_train, index=X_train.index)[indices]"
   ]
  },
  {
   "cell_type": "code",
   "execution_count": 16,
   "metadata": {
    "slideshow": {
     "slide_type": "subslide"
    }
   },
   "outputs": [
    {
     "data": {
      "text/html": [
       "<div>\n",
       "<style scoped>\n",
       "    .dataframe tbody tr th:only-of-type {\n",
       "        vertical-align: middle;\n",
       "    }\n",
       "\n",
       "    .dataframe tbody tr th {\n",
       "        vertical-align: top;\n",
       "    }\n",
       "\n",
       "    .dataframe thead th {\n",
       "        text-align: right;\n",
       "    }\n",
       "</style>\n",
       "<table border=\"1\" class=\"dataframe\">\n",
       "  <thead>\n",
       "    <tr style=\"text-align: right;\">\n",
       "      <th></th>\n",
       "      <th>mean radius</th>\n",
       "      <th>mean texture</th>\n",
       "      <th>mean area</th>\n",
       "      <th>mean smoothness</th>\n",
       "    </tr>\n",
       "  </thead>\n",
       "  <tbody>\n",
       "    <tr>\n",
       "      <th>553</th>\n",
       "      <td>9.333</td>\n",
       "      <td>21.94</td>\n",
       "      <td>264.0</td>\n",
       "      <td>0.09240</td>\n",
       "    </tr>\n",
       "    <tr>\n",
       "      <th>121</th>\n",
       "      <td>18.660</td>\n",
       "      <td>17.12</td>\n",
       "      <td>1077.0</td>\n",
       "      <td>0.10540</td>\n",
       "    </tr>\n",
       "    <tr>\n",
       "      <th>260</th>\n",
       "      <td>20.310</td>\n",
       "      <td>27.06</td>\n",
       "      <td>1288.0</td>\n",
       "      <td>0.10000</td>\n",
       "    </tr>\n",
       "    <tr>\n",
       "      <th>246</th>\n",
       "      <td>13.200</td>\n",
       "      <td>17.43</td>\n",
       "      <td>541.6</td>\n",
       "      <td>0.07215</td>\n",
       "    </tr>\n",
       "    <tr>\n",
       "      <th>428</th>\n",
       "      <td>11.130</td>\n",
       "      <td>16.62</td>\n",
       "      <td>381.1</td>\n",
       "      <td>0.08151</td>\n",
       "    </tr>\n",
       "  </tbody>\n",
       "</table>\n",
       "</div>"
      ],
      "text/plain": [
       "     mean radius  mean texture  mean area  mean smoothness\n",
       "553        9.333         21.94      264.0          0.09240\n",
       "121       18.660         17.12     1077.0          0.10540\n",
       "260       20.310         27.06     1288.0          0.10000\n",
       "246       13.200         17.43      541.6          0.07215\n",
       "428       11.130         16.62      381.1          0.08151"
      ]
     },
     "execution_count": 16,
     "metadata": {},
     "output_type": "execute_result"
    }
   ],
   "source": [
    "X_test[cols_to_display].sample(5)"
   ]
  },
  {
   "cell_type": "markdown",
   "metadata": {
    "slideshow": {
     "slide_type": "subslide"
    }
   },
   "source": [
    "### ILV04.1 b) Validation\n",
    "By leaving the test set out of the learning process and the process of tuning hyperparameters, we need an additional set that helps us to evaluate the performance of the model during training.\n",
    "\n",
    "\"In order to create a subset of the data, which will help us tune the hyperparameters of the model, we need to split the **training set** into a training and validation set.\"\n",
    "\n",
    "You may use different strategies to implement this, two are listed in the following slides.\n",
    "\n",
    "\n"
   ]
  },
  {
   "cell_type": "markdown",
   "metadata": {
    "slideshow": {
     "slide_type": "subslide"
    }
   },
   "source": [
    "**Holdout**:\n",
    "\n",
    "- Setting aside a validation set by splitting the train set again\n",
    "- This results in a fixed train set and a fixed validation set\n",
    "- Be careful to NEVER use the test set as your validation dataset!\n",
    "- In Keras: use fit() method of a Keras Model with either `validation_split=percentage` or `validation_data=valid_dataset`."
   ]
  },
  {
   "cell_type": "markdown",
   "metadata": {
    "slideshow": {
     "slide_type": "subslide"
    }
   },
   "source": [
    "<center><img src=\"resources/ILV04_train_test_val_split.png\" style=\"width: 80%;\"/></center>"
   ]
  },
  {
   "cell_type": "markdown",
   "metadata": {
    "slideshow": {
     "slide_type": "subslide"
    }
   },
   "source": [
    "**Cross-Validation:**\n",
    "\n",
    "- \"Dividing the dataset into a ﬁxed training set and a ﬁxed validation set can be problematic if it results in the validation set being small. A small validation set implies statistical uncertainty around the estimated average validation error, making it difficult to claim that algorithm $A$ works better than algorithm $B$ on the given task.\"\n",
    "\n",
    "- \"When the dataset has hundreds of thousands of examples or more, this is not a serious issue. When the dataset is too small, alternative procedures enable one to use all the examples in the estimation of the mean validation error, at the price of increased computational cost.\"\n",
    "\n",
    "- \"The most common of these is the k-fold cross-validation procedure, in which a partition of the dataset is formed by splitting it into k nonoverlapping subsets. The image bellow illustrates this procedure.\"\n"
   ]
  },
  {
   "cell_type": "markdown",
   "metadata": {
    "slideshow": {
     "slide_type": "subslide"
    }
   },
   "source": [
    "<center><img src=\"resources/ILV04_k-fold-cross-validation-method.png\" style=\"width: 75%;\"/></center>\n",
    "<center><a href=\"https://www.researchgate.net/publication/331209203_Tectonic_discrimination_of_olivine_in_basalt_using_data_mining_techniques_based_on_major_elements_a_comparative_study_from_multiple_perspectives\">\"Tectonic discrimination of olivine in basalt using data mining techniques based on major elements: a comparative study from multiple perspectives\", Ren et al, 2019</a></center>"
   ]
  },
  {
   "cell_type": "markdown",
   "metadata": {
    "slideshow": {
     "slide_type": "slide"
    }
   },
   "source": [
    "## ILV04.2 Bias & Variance, Overfitting & Underfitting\n",
    "\n",
    "<center><img src=\"resources/ILV04_problem_space.png\" style=\"width: 60%;\"/></center>\n",
    "\n",
    "<center>S. Wegenkittl, Lecture on Machine Learning: Slide 15</center>\n"
   ]
  },
  {
   "cell_type": "markdown",
   "metadata": {
    "slideshow": {
     "slide_type": "subslide"
    }
   },
   "source": [
    "### ILV04.2 a) Explaining Variance and Bias in Statistical Learning Theory\n",
    "Note: Direct quotations in this subsection are taken from [\"An Introduction to Statistical Learning\", James et al., 2013; Section 2.2](https://faculty.marshall.usc.edu/gareth-james/ISL/ISLR%20Seventh%20Printing.pdf).\n",
    "\n",
    "\"**Variance** refers to the amount by which $\\hat{f}$ would change if we estimated it using a different training data set. Since the training data are used to fit the statistical learning method, different training data sets will result in a different $\\hat{f}$. But ideally the estimate for $f$ should not vary too much between training sets. However, if a method has high variance then small changes in the training data can result in large changes in $\\hat{f}$. In general, more flexible statistical methods have higher variance.\""
   ]
  },
  {
   "cell_type": "markdown",
   "metadata": {
    "slideshow": {
     "slide_type": "fragment"
    }
   },
   "source": [
    "\"**Bias** refers to the error that is introduced by approximating a real-life problem, which may be extremely complicated, by a much simpler model. For example, linear regression assumes that there is a linear relationship between $Y$ and $X_1, X_2, ..., X_p$. It is unlikely that any real-life problem truly has such a simple linear relationship, and so performing linear regression will undoubtedly result in some bias in the estimate off.\""
   ]
  },
  {
   "cell_type": "markdown",
   "metadata": {
    "slideshow": {
     "slide_type": "subslide"
    }
   },
   "source": [
    "<div style=\"width: 40%; float: left; margin-right:25px\">\n",
    "    <img src=\"resources/ILV04_bias_variance.png\"/>\n",
    "    <center><a href=\"https://medium.com/@akgone38/what-the-heck-bias-variance-tradeoff-is-fe4681c0e71b\">medium.com</a></center>\n",
    "</div>\n",
    "\n",
    "<div style=\"width: 55%; float: left; margin-top:150px\">\n",
    "    Match the targets A, B, C, D to the following statements:\n",
    "    <br>\n",
    "    <ol>\n",
    "        <li>Skewed mean error - High bias, high variance</li>\n",
    "        <li>Constantly skewed - High bias, low variance</li>\n",
    "        <li>Mean error comes close to target - Low bias, low variance</li>\n",
    "        <li>Mean error comes close to target - Low bias, high variance</li>\n",
    "    </ol>\n",
    "</div>"
   ]
  },
  {
   "cell_type": "markdown",
   "metadata": {
    "slideshow": {
     "slide_type": "subslide"
    }
   },
   "source": [
    "### ILV04.2 b) What is Overfitting and Underfitting?\n",
    "\n",
    "<center><img src=\"resources/ILV04_overfitting_underfitting.png\" style=\"width: 70%\"/></center>\n",
    "\n",
    "<center><a href=\"https://www.deeplearningbook.org/\">\"Deep Learning\", Goodfellow et al., 2016; Section 5.2</a></center>\n",
    "\n",
    "\n",
    "- \"**Underfitting** occurs when the model is not able to obtain a sufficiently low error value on the training set.\"\n",
    "\n",
    "- \"**Overﬁtting** occurs when the gap between the training error and validation error is too large.\""
   ]
  },
  {
   "cell_type": "markdown",
   "metadata": {
    "slideshow": {
     "slide_type": "subslide"
    }
   },
   "source": [
    "### ILV04.2 c) Relationship Between Variance & Bias and Overfitting & Underfitting\n",
    "\n",
    "\n",
    "\n",
    "<center><img src=\"resources/ILV04_relationship_underover_biasvariance.png\" style=\"width: 70%\"/></center>\n",
    "<center><a href=\"https://www.deeplearningbook.org/\">\"Deep Learning\", Goodfellow et al., 2016; Section 5.4</a></center>\n",
    "\n",
    "- **Overfitting**: low bias, high variance\n",
    "\n",
    "- **Underfitting**: low variance, high bias"
   ]
  },
  {
   "cell_type": "markdown",
   "metadata": {
    "slideshow": {
     "slide_type": "subslide"
    }
   },
   "source": [
    "### Bonus Question:\n",
    "\n",
    "Now that we learned more about the terms variance, bias as well as overfitting and underfitting,<br>let's revisit the first slide of this section and ask ourselves:\n",
    "- How would overfitting look like if drawn onto this diagram? \n",
    "- What about underfitting?\n",
    "\n",
    "\n",
    "<center><img src=\"resources/ILV04_problem_space.png\" style=\"width: 60%;\"/></center>\n",
    "\n",
    "<center>S. Wegenkittl, Lecture on Machine Learning: Slide 15</center>\n"
   ]
  },
  {
   "cell_type": "markdown",
   "metadata": {
    "slideshow": {
     "slide_type": "slide"
    }
   },
   "source": [
    "## ILV04.3 Learning Curves\n",
    "\n",
    "With the knowledge we acquired so far, we are now able to talk about two different learning curves that help us to evaluate a model's training success.\n",
    "\n",
    "We are going to take a look at a curve displaying loss and validation loss over the number of training samples as well as loss and validation loss over the training epochs."
   ]
  },
  {
   "cell_type": "markdown",
   "metadata": {
    "slideshow": {
     "slide_type": "subslide"
    }
   },
   "source": [
    "### Trivia (from [\"Learning Curves in Machine Learning\", Perlich, 2009](https://www.researchgate.net/publication/247934703_Learning_Curves_in_Machine_Learning))\n",
    "\n",
    "\n",
    "<center><img src=\"resources/ILV04_ebbinghaus.jpg\" style=\"width: 20%; margin-top:50px\"/></center>\n",
    "<center><a href=\"https://en.wikipedia.org/wiki/Hermann_Ebbinghaus\">Hermann Ebbinghaus</a></center>\n",
    "\n",
    "Learning curves were initially introduced in educational and behavioral/cognitive psychology. The ﬁrst person to describe the learning curve was Hermann Ebbinghaus in **1885**. He found that the time required to memorize a non-sense syllable increased sharply as the number of syllables increased.\n"
   ]
  },
  {
   "cell_type": "markdown",
   "metadata": {
    "slideshow": {
     "slide_type": "subslide"
    }
   },
   "source": [
    "### ILV4.3 a) Number of Samples\n",
    "\n",
    "Note: The following subsection is adapted from [Andrew Ng's video](https://www.youtube.com/watch?v=ISBGFY-gBug) about learning curves.\n",
    "\n",
    "\n",
    "Lets imagine the following setup, we have a data set which is being deliberately reduced in terms of training samples. "
   ]
  },
  {
   "cell_type": "markdown",
   "metadata": {
    "slideshow": {
     "slide_type": "subslide"
    }
   },
   "source": [
    "In the image bellow you can see the 6 diagrams which contain 1 to 6 samples of the training set. \n",
    "We will try to fit a quadratic function $h_{\\theta}(x)$ on each of those training sets.\n",
    "\n",
    "\n",
    "<div style=\"width: 40%; float: left; margin-right:25px\">\n",
    "    <img src=\"resources/ILV04_training_sets_1-6.png\"/>\n",
    "</div>\n",
    "\n",
    "<div style=\"width: 55%; float: left; margin-top:150px\">\n",
    "   $\\large h_{\\theta}(x) = \\theta_0 + \\theta_1x + \\theta_2x^2$\n",
    "</div>\n"
   ]
  },
  {
   "cell_type": "markdown",
   "metadata": {
    "slideshow": {
     "slide_type": "skip"
    }
   },
   "source": [
    "As you can see the first few diagrams, 1 to 3 training samples to be precise, are showing that it is possible to fit a quadratic function to the given training samples. Therefore the training error on a small subset of the training data is usually very small. As the subset of the training data is getting larger, the training error is getting bigger, because it is not possible to fit the quadratic function to the given data points, as you can see on the diagrams with 4-6 training samples."
   ]
  },
  {
   "cell_type": "markdown",
   "metadata": {
    "slideshow": {
     "slide_type": "subslide"
    }
   },
   "source": [
    "Now lets take a look on the training curves. We will use the mean squared error for this example and define the functions $J_{train}(\\theta)$ which describes the training error and $J_{cv}(\\theta)$ which is the cross validation error.\n",
    "\n",
    "<center>$\\large J_{train}(\\theta)=\\frac{1}{2m} \\sum_{i=1}^{m} (h_{\\theta}(x^{(i)}) - y^{(i)})^2$</center>\n",
    "\n",
    "<center>$\\large J_{cv}(\\theta)=\\frac{1}{2m_{cv}} \\sum_{i=1}^{m} (h_{\\theta}(x_{cv}^{(i)}) - y_{cv}^{(i)})^2$</center>"
   ]
  },
  {
   "cell_type": "markdown",
   "metadata": {
    "slideshow": {
     "slide_type": "subslide"
    }
   },
   "source": [
    "Since in the begining it is very easy for the classifier to fit its quadratic function to a small subset of the training data the training error is very small. The other subset of the data called validation data is usually not going to fit the same function, since the classifier only has insight to the training data. Therefore the validation error is going to be bigger when the training set is small. This is shown in the diagram bellow.\n",
    "<img src=\"resources/ILV04_learning_curve_sample.png\" style=\"width: 40%; \"/>"
   ]
  },
  {
   "cell_type": "markdown",
   "metadata": {
    "slideshow": {
     "slide_type": "subslide"
    }
   },
   "source": [
    "**High bias**\n",
    "\n",
    "Now lets imagine we have a hypothesis which is described as a straight line $h_{\\theta}(x)$ and we are trying to fit this line to the following data.\n",
    "\n",
    "<div style=\"width: 40%; float: left; margin-right:25px; margin-top: 20px;\">\n",
    "    <img src=\"resources/ILV04_high_bias_sample_data.png\"/>\n",
    "</div>\n",
    "\n",
    "<div style=\"width: 55%; float: left; margin-top:40px;\">\n",
    "   $\\large h_{\\theta}(x) = \\theta_0 + \\theta_1x$\n",
    "</div>"
   ]
  },
  {
   "cell_type": "markdown",
   "metadata": {
    "slideshow": {
     "slide_type": "fragment"
    }
   },
   "source": [
    "Getting more data doesn't really change the line you already fitted."
   ]
  },
  {
   "cell_type": "markdown",
   "metadata": {
    "slideshow": {
     "slide_type": "subslide"
    }
   },
   "source": [
    "When we plot the training and cross validation error for this case we can see following. Cross validation error is high in the beginning and it stays high even with a much larger training set. \n",
    "Training error is small in the beginning but it gets higher as soon as the training sizes increases.\n",
    "<img src=\"resources/ILV04_high_bias_curve_sample.png\" style=\"width: 40%; \"/>"
   ]
  },
  {
   "cell_type": "markdown",
   "metadata": {
    "slideshow": {
     "slide_type": "subslide"
    }
   },
   "source": [
    "So what does this tell us about our model?"
   ]
  },
  {
   "cell_type": "markdown",
   "metadata": {
    "slideshow": {
     "slide_type": "fragment"
    }
   },
   "source": [
    "Getting more data is not going to help us solving this problem. We should try to tune another hyperparameters, such as:\n",
    "- input dimensions, \n",
    "- number of hidden nodes, \n",
    "- number of hidden layers etc."
   ]
  },
  {
   "cell_type": "markdown",
   "metadata": {
    "slideshow": {
     "slide_type": "subslide"
    }
   },
   "source": [
    "**High variance**\n",
    "\n",
    "Lets say we have the following data and we are fitting a high order polynomial $h_{\\theta}(x)$ on this data. Here we will use a 100-degree polynomial, which is actually only used for the sake of this illustration.\n",
    "\n",
    "<div style=\"width: 40%; float: left; margin-right:25px; margin-top: 20px;\">\n",
    "    <img src=\"resources/ILV04_high_variance_sample_data.png\"/>\n",
    "</div>\n",
    "\n",
    "<div style=\"width: 55%; float: left; margin-top:40px;\">\n",
    "   $\\large h_{\\theta}(x) = \\theta_0 + \\theta_1x + ... +  \\theta_{100}x^{100}$\n",
    "</div>"
   ]
  },
  {
   "cell_type": "markdown",
   "metadata": {
    "slideshow": {
     "slide_type": "fragment"
    }
   },
   "source": [
    "As you can see, this will fit the data fairly well."
   ]
  },
  {
   "cell_type": "markdown",
   "metadata": {
    "slideshow": {
     "slide_type": "subslide"
    }
   },
   "source": [
    "Plotting the error curves for the training and cross validation error shows following. The training error is increasing slightly as the training set size increases. The cross validation error decreases steadily as the training set size increases. \n",
    "<img src=\"resources/ILV04_high_variance_curve_sample.png\" style=\"width: 40%; \"/>"
   ]
  },
  {
   "cell_type": "markdown",
   "metadata": {
    "slideshow": {
     "slide_type": "fragment"
    }
   },
   "source": [
    "This leaves us with a pretty big error gap between the cross validation error and train error. "
   ]
  },
  {
   "cell_type": "markdown",
   "metadata": {
    "slideshow": {
     "slide_type": "subslide"
    }
   },
   "source": [
    "What is this type of learning curve telling us regarding our model? "
   ]
  },
  {
   "cell_type": "markdown",
   "metadata": {
    "slideshow": {
     "slide_type": "fragment"
    }
   },
   "source": [
    "In this case, getting more data is likely to help. "
   ]
  },
  {
   "cell_type": "markdown",
   "metadata": {
    "slideshow": {
     "slide_type": "fragment"
    }
   },
   "source": [
    "If we consider that the training error increases and the cross validation error decreases and extrapolate this diagram to the right, we can see that this could help improving the model."
   ]
  },
  {
   "cell_type": "markdown",
   "metadata": {
    "slideshow": {
     "slide_type": "fragment"
    }
   },
   "source": [
    "<img src=\"resources/ILV04_high_variance_curve_sample_long.png\" style=\"width: 40%; \"/>"
   ]
  },
  {
   "cell_type": "markdown",
   "metadata": {
    "slideshow": {
     "slide_type": "subslide"
    }
   },
   "source": [
    "### Plotting Loss over Training Samples for our Model\n",
    "\n",
    "First, let's create our model using the `create_model` function."
   ]
  },
  {
   "cell_type": "code",
   "execution_count": 17,
   "metadata": {
    "slideshow": {
     "slide_type": "fragment"
    }
   },
   "outputs": [],
   "source": [
    "model = create_model(input_dim=X_train.shape[1],\n",
    "                     output_dim=1,\n",
    "                     hidden_nodes=10)"
   ]
  },
  {
   "cell_type": "code",
   "execution_count": 18,
   "metadata": {
    "slideshow": {
     "slide_type": "subslide"
    }
   },
   "outputs": [
    {
     "data": {
      "text/plain": [
       "<module 'matplotlib.pyplot' from '/opt/conda/lib/python3.7/site-packages/matplotlib/pyplot.py'>"
      ]
     },
     "execution_count": 18,
     "metadata": {},
     "output_type": "execute_result"
    },
    {
     "data": {
      "image/png": "[encoded data removed]",
      "text/plain": [
       "<Figure size 864x360 with 1 Axes>"
      ]
     },
     "metadata": {
      "needs_background": "light"
     },
     "output_type": "display_data"
    }
   ],
   "source": [
    "plot_learning_curve(model, X_train, y_train, train_sizes=np.linspace(0.1, 1, 5), title=\"Learning Curves\")"
   ]
  },
  {
   "cell_type": "markdown",
   "metadata": {
    "slideshow": {
     "slide_type": "subslide"
    }
   },
   "source": [
    "### ILV04.3 b) Number of Training Iterations\n",
    "\n",
    "To show you this type of learning curve, we are going to take a look at code producing curves like this.<br>If you want a more detailed explanation, you can take a look at this [blog](https://machinelearningmastery.com/learning-curves-for-diagnosing-machine-learning-model-performance/)."
   ]
  },
  {
   "cell_type": "code",
   "execution_count": 19,
   "metadata": {
    "scrolled": true,
    "slideshow": {
     "slide_type": "fragment"
    }
   },
   "outputs": [],
   "source": [
    "model = create_model(input_dim=X_train.shape[1],\n",
    "                     output_dim=1,\n",
    "                     hidden_nodes=10)\n",
    "\n",
    "history = model.fit(X_train, y_train, validation_split = 0.33, \n",
    "                    verbose=0, epochs=200, batch_size=32)"
   ]
  },
  {
   "cell_type": "code",
   "execution_count": 20,
   "metadata": {
    "slideshow": {
     "slide_type": "subslide"
    }
   },
   "outputs": [
    {
     "data": {
      "image/png": "[encoded data removed]",
      "text/plain": [
       "<Figure size 960x800 with 2 Axes>"
      ]
     },
     "metadata": {
      "needs_background": "light"
     },
     "output_type": "display_data"
    }
   ],
   "source": [
    "plot_learning_curve_over_epochs(history)"
   ]
  },
  {
   "cell_type": "markdown",
   "metadata": {
    "slideshow": {
     "slide_type": "subslide"
    }
   },
   "source": [
    "### ILV04.3 c) Combining the Two Types of Learning Curves\n",
    "We are now going to train a simpler version of the model by reducing the input dimensionality of the dataset as well as using fewer hidden nodes. This different model configuration will also produce different learning curves for you to evaluate."
   ]
  },
  {
   "cell_type": "code",
   "execution_count": 15,
   "metadata": {
    "slideshow": {
     "slide_type": "fragment"
    }
   },
   "outputs": [],
   "source": [
    "# Select a subset of features to drop in order to create a simpler model\n",
    "corr_matrix = X_train.corr()\n",
    "to_drop = select_features_above_threshold(0.80, corr_matrix=corr_matrix)\n",
    "\n",
    "X_train_sel = X_train.drop(columns=to_drop)\n",
    "X_test_sel = X_test.drop(columns=to_drop)"
   ]
  },
  {
   "cell_type": "code",
   "execution_count": 22,
   "metadata": {
    "slideshow": {
     "slide_type": "fragment"
    }
   },
   "outputs": [],
   "source": [
    "# Create the model again with fewer input dimensions and fewer hidden nodes\n",
    "model = create_model(input_dim=X_train_sel.shape[1],\n",
    "                     output_dim=1,\n",
    "                     hidden_nodes=5)"
   ]
  },
  {
   "cell_type": "code",
   "execution_count": 23,
   "metadata": {
    "slideshow": {
     "slide_type": "subslide"
    }
   },
   "outputs": [
    {
     "data": {
      "text/plain": [
       "<module 'matplotlib.pyplot' from '/opt/conda/lib/python3.7/site-packages/matplotlib/pyplot.py'>"
      ]
     },
     "execution_count": 23,
     "metadata": {},
     "output_type": "execute_result"
    },
    {
     "data": {
      "image/png": "[encoded data removed]",
      "text/plain": [
       "<Figure size 864x360 with 1 Axes>"
      ]
     },
     "metadata": {
      "needs_background": "light"
     },
     "output_type": "display_data"
    }
   ],
   "source": [
    "plot_learning_curve(model, X_train_sel, y_train, train_sizes=np.linspace(0.1, 1, 5), title=\"Learning Curves\")"
   ]
  },
  {
   "cell_type": "code",
   "execution_count": 25,
   "metadata": {
    "slideshow": {
     "slide_type": "subslide"
    }
   },
   "outputs": [],
   "source": [
    "model = create_model(input_dim=X_train_sel.shape[1],\n",
    "                     output_dim=1,\n",
    "                     hidden_nodes=5)\n",
    "\n",
    "history = model.fit(X_train_sel, y_train, validation_split = 0.33, \n",
    "                    verbose=0, epochs=200, batch_size=32)"
   ]
  },
  {
   "cell_type": "code",
   "execution_count": 26,
   "metadata": {
    "slideshow": {
     "slide_type": "fragment"
    }
   },
   "outputs": [],
   "source": [
    "# introduce early stopping as a preventative measure against overfitting\n",
    "early_stopping = get_early_stopping_index(history.history, patience = 10, epsi = 0.005)"
   ]
  },
  {
   "cell_type": "code",
   "execution_count": 27,
   "metadata": {
    "slideshow": {
     "slide_type": "subslide"
    }
   },
   "outputs": [
    {
     "data": {
      "image/png": "[encoded data removed]",
      "text/plain": [
       "<Figure size 960x800 with 2 Axes>"
      ]
     },
     "metadata": {
      "needs_background": "light"
     },
     "output_type": "display_data"
    }
   ],
   "source": [
    "# plot the curve again with the epoch index that indicates the start of the overfitting period highlighted in red\n",
    "plot_learning_curve_over_epochs(history, early_stopping = early_stopping)"
   ]
  },
  {
   "cell_type": "markdown",
   "metadata": {
    "slideshow": {
     "slide_type": "slide"
    }
   },
   "source": [
    "### ILV04.4 Parameterization of a Final Model Using the Insights Gained in Previous Sections\n"
   ]
  },
  {
   "cell_type": "code",
   "execution_count": 44,
   "metadata": {
    "slideshow": {
     "slide_type": "fragment"
    }
   },
   "outputs": [],
   "source": [
    "model = create_model(input_dim=X_train.shape[1],\n",
    "                     output_dim=1,\n",
    "                     hidden_nodes=10)\n",
    "\n",
    "early_stop = callbacks.EarlyStopping(monitor='val_loss', min_delta=0.005, patience=10, mode='auto')\n",
    "\n",
    "history = model.fit(X_train, y_train, validation_split = 0.33, \n",
    "                       verbose=0, epochs=200, batch_size=32,\n",
    "                       callbacks=[early_stop])"
   ]
  },
  {
   "cell_type": "code",
   "execution_count": 48,
   "metadata": {
    "slideshow": {
     "slide_type": "subslide"
    }
   },
   "outputs": [
    {
     "data": {
      "image/png": "[encoded data removed]",
      "text/plain": [
       "<Figure size 960x800 with 2 Axes>"
      ]
     },
     "metadata": {
      "needs_background": "light"
     },
     "output_type": "display_data"
    }
   ],
   "source": [
    "plot_learning_curve_over_epochs(history)"
   ]
  },
  {
   "cell_type": "code",
   "execution_count": 45,
   "metadata": {
    "slideshow": {
     "slide_type": "subslide"
    }
   },
   "outputs": [],
   "source": [
    "y_pred_proba = model.predict(X_test)\n",
    "y_pred = np.round(y_pred_proba)"
   ]
  },
  {
   "cell_type": "code",
   "execution_count": 46,
   "metadata": {
    "slideshow": {
     "slide_type": "fragment"
    }
   },
   "outputs": [
    {
     "data": {
      "image/png": "[encoded data removed]",
      "text/plain": [
       "<Figure size 720x720 with 2 Axes>"
      ]
     },
     "metadata": {
      "needs_background": "light"
     },
     "output_type": "display_data"
    }
   ],
   "source": [
    "cm = confusion_matrix(y_test, y_pred)\n",
    "\n",
    "class_names = ['benign', 'malignant']\n",
    "\n",
    "plot_confusion_matrix(cm, class_names,\n",
    "                          normalize=True,\n",
    "                          title='Normalized Confusion matrix',\n",
    "                          cmap=plt.cm.Blues)"
   ]
  }
 ],
 "metadata": {
  "celltoolbar": "Slideshow",
  "kernelspec": {
   "display_name": "Python 3",
   "language": "python",
   "name": "python3"
  },
  "language_info": {
   "codemirror_mode": {
    "name": "ipython",
    "version": 3
   },
   "file_extension": ".py",
   "mimetype": "text/x-python",
   "name": "python",
   "nbconvert_exporter": "python",
   "pygments_lexer": "ipython3",
   "version": "3.7.4"
  }
 },
 "nbformat": 4,
 "nbformat_minor": 4
}
